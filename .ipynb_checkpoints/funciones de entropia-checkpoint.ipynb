{
 "cells": [
  {
   "cell_type": "code",
   "execution_count": 94,
   "id": "8459038b",
   "metadata": {},
   "outputs": [],
   "source": [
    "import networkx as nx\n",
    "import numpy as np\n",
    "import matplotlib.pyplot as plt"
   ]
  },
  {
   "cell_type": "code",
   "execution_count": 56,
   "id": "1d50a5a9",
   "metadata": {},
   "outputs": [],
   "source": [
    "def entropia_normalizada_1(G): #Donde G es la red y N es el número de nodos en la red\n",
    "    grados_nodos = list(G.degree())\n",
    "    grados_nodos = [grados_nodos[i][1] for i in range(len(grados_nodos))]\n",
    "    \n",
    "    k_min = min(grados_nodos)\n",
    "    k_max = max(grados_nodos)\n",
    "    \n",
    "    lista_k_i = [(k_i - k_min)/(k_max - k_min) for k_i in grados_nodos]#Hasta aquí obtengo los k_i normalizados\n",
    "    \n",
    "    return -sum(((k_i)/(sum(k_j for k_j in lista_k_i if k_i>0)))*np.log((k_i)/(sum(k_j for k_j in lista_k_i if k_i>0))) \n",
    "                for k_i in lista_k_i if k_i>0) #Aquí usamos el logaritmo natural \n",
    "    "
   ]
  },
  {
   "cell_type": "code",
   "execution_count": 64,
   "id": "45084259",
   "metadata": {},
   "outputs": [],
   "source": [
    "def entropia_normalizada_2(G): # Donde G es la red y N es el número de nodos en la red\n",
    "    N = len(G.nodes())\n",
    "    grados_nodos = list(G.degree())\n",
    "    grados_nodos = [grados_nodos[i][1] for i in range(len(grados_nodos))]\n",
    "    \n",
    "    k_min = min(grados_nodos)\n",
    "    k_max = max(grados_nodos)\n",
    "    \n",
    "    lista_k_i = [(k_i - k_min) / (k_max - k_min) for k_i in grados_nodos]  # Normalizamos los grados\n",
    "    \n",
    "    # Calculamos la entropía con logaritmo en base 10\n",
    "    return -sum(((k_i) / (sum(k_j for k_j in lista_k_i if k_i > 0))) * np.log10((k_i) / (sum(k_j for k_j in lista_k_i if k_i > 0))) \n",
    "                for k_i in lista_k_i if k_i>0)"
   ]
  },
  {
   "cell_type": "code",
   "execution_count": 89,
   "id": "3f27ac7c",
   "metadata": {},
   "outputs": [],
   "source": [
    "def entropia_exponencial_1(G,q):#G es la red y q es un número natural\n",
    "    grados_nodos = list(G.degree())\n",
    "    grados_nodos = [grados_nodos[i][1] for i in range(len(grados_nodos))]\n",
    "    \n",
    "    lista_k_i = [np.power(k_i,q) for k_i in grados_nodos] #Hasta aquí obtenemos la lista de los (k_i)^q\n",
    "    \n",
    "    return -sum(((k_i)/(sum(k_j for k_j in lista_k_i)))*np.log((k_i)/(sum(k_j for k_j in lista_k_i)))\n",
    "               for k_i in lista_k_i)\n",
    "    "
   ]
  },
  {
   "cell_type": "code",
   "execution_count": 90,
   "id": "46651048",
   "metadata": {},
   "outputs": [],
   "source": [
    "def entropia_exponencial_2(G,q):#G es la red y q es un número natural\n",
    "    grados_nodos = list(G.degree())\n",
    "    grados_nodos = [grados_nodos[i][1] for i in range(len(grados_nodos))]\n",
    "    \n",
    "    lista_k_i = [np.power(k_i,q) for k_i in grados_nodos] #Hasta aquí obtenemos la lista de los (k_i)^q\n",
    " \n",
    "    return -sum(((k_i)/(sum(k_j for k_j in lista_k_i)))*np.log10((k_i)/(sum(k_j for k_j in lista_k_i)))\n",
    "               for k_i in lista_k_i)\n",
    "    "
   ]
  },
  {
   "cell_type": "code",
   "execution_count": 115,
   "id": "82aab3f7",
   "metadata": {},
   "outputs": [],
   "source": [
    "def entropia_distribucion_1(G):\n",
    "    grados_nodos = list(G.degree())\n",
    "    grados_nodos = [grados_nodos[i][1] for i in range(len(grados_nodos))]\n",
    "    N = len(G.nodes())\n",
    "    \n",
    "    distribucion_grados = {}\n",
    "    \n",
    "    for grado in grados_nodos: #Con este for obtenemos la distribucion de los grados\n",
    "        if grado not in distribucion_grados:\n",
    "            distribucion_grados[grado] = 0 #Si no está el grado, lo inicializamos\n",
    "        distribucion_grados[grado] += 1 #Luego aumentamos el conteo del grado\n",
    "        \n",
    "    distribucion_grados = list(distribucion_grados.values())\n",
    "\n",
    "    distribucion_grados = [grado/N for grado in distribucion_grados] #Dividimos el conteo entre N pq asi está definida p(k)\n",
    "    \n",
    "    return -sum(p_k * np.log(p_k) for p_k in distribucion_grados)"
   ]
  },
  {
   "cell_type": "code",
   "execution_count": 116,
   "id": "774faf3e",
   "metadata": {},
   "outputs": [],
   "source": [
    "def entropia_distribucion_2(G):\n",
    "    grados_nodos = list(G.degree())\n",
    "    grados_nodos = [grados_nodos[i][1] for i in range(len(grados_nodos))]\n",
    "    N = len(G.nodes())\n",
    "    \n",
    "    distribucion_grados = {}\n",
    "    \n",
    "    for grado in grados_nodos: #Con este for obtenemos la distribucion de los grados\n",
    "        if grado not in distribucion_grados:\n",
    "            distribucion_grados[grado] = 0 #Si no está el grado, lo inicializamos\n",
    "        distribucion_grados[grado] += 1 #Luego aumentamos el conteo del grado\n",
    "        \n",
    "    distribucion_grados = list(distribucion_grados.values())\n",
    "\n",
    "    distribucion_grados = [grado/N for grado in distribucion_grados] #Dividimos el conteo entre N pq asi está definida p(k)\n",
    "    \n",
    "    return -sum(p_k * np.log10(p_k) for p_k in distribucion_grados)"
   ]
  },
  {
   "cell_type": "code",
   "execution_count": null,
   "id": "1f26ab6b",
   "metadata": {},
   "outputs": [],
   "source": [
    "def w(G):\n",
    "    return 1"
   ]
  },
  {
   "cell_type": "code",
   "execution_count": 71,
   "id": "a3a0170d",
   "metadata": {},
   "outputs": [],
   "source": [
    "def crear_grafica(modelo,n,m,p):\n",
    "  if modelo == \"watts\":\n",
    "    G = nx.watts_strogatz_graph(n,m,p, seed = None) #No tenemos intéres en estudiar una semilla en particular\n",
    "  if modelo == \"barabasi\":\n",
    "    G = nx.barabasi_albert_graph(n,m, seed = None)\n",
    "  return G    "
   ]
  },
  {
   "cell_type": "code",
   "execution_count": 119,
   "id": "f7651884",
   "metadata": {},
   "outputs": [],
   "source": [
    "G = crear_grafica('barabasi',100,11,0)\n"
   ]
  },
  {
   "cell_type": "code",
   "execution_count": 120,
   "id": "d38dcdb0",
   "metadata": {},
   "outputs": [
    {
     "data": {
      "text/plain": [
       "4.256111640276366"
      ]
     },
     "execution_count": 120,
     "metadata": {},
     "output_type": "execute_result"
    }
   ],
   "source": [
    "entropia_normalizada_1(G)"
   ]
  },
  {
   "cell_type": "code",
   "execution_count": 121,
   "id": "56ee468b",
   "metadata": {},
   "outputs": [
    {
     "data": {
      "text/plain": [
       "1.8484057997362235"
      ]
     },
     "execution_count": 121,
     "metadata": {},
     "output_type": "execute_result"
    }
   ],
   "source": [
    "entropia_normalizada_2(G)"
   ]
  },
  {
   "cell_type": "code",
   "execution_count": 122,
   "id": "19df7c91",
   "metadata": {},
   "outputs": [
    {
     "data": {
      "text/plain": [
       "4.479818954987286"
      ]
     },
     "execution_count": 122,
     "metadata": {},
     "output_type": "execute_result"
    }
   ],
   "source": [
    "entropia_exponencial_1(G,1)"
   ]
  },
  {
   "cell_type": "code",
   "execution_count": 123,
   "id": "eefa2cd2",
   "metadata": {},
   "outputs": [
    {
     "data": {
      "text/plain": [
       "1.945560652076572"
      ]
     },
     "execution_count": 123,
     "metadata": {},
     "output_type": "execute_result"
    }
   ],
   "source": [
    "entropia_exponencial_2(G,1)"
   ]
  },
  {
   "cell_type": "code",
   "execution_count": 124,
   "id": "ae952de0",
   "metadata": {},
   "outputs": [
    {
     "data": {
      "text/plain": [
       "3.0405097068545963"
      ]
     },
     "execution_count": 124,
     "metadata": {},
     "output_type": "execute_result"
    }
   ],
   "source": [
    "entropia_distribucion_1(G)"
   ]
  },
  {
   "cell_type": "code",
   "execution_count": 125,
   "id": "f2a20057",
   "metadata": {},
   "outputs": [
    {
     "data": {
      "text/plain": [
       "1.3204765878602251"
      ]
     },
     "execution_count": 125,
     "metadata": {},
     "output_type": "execute_result"
    }
   ],
   "source": [
    "entropia_distribucion_2(G)"
   ]
  },
  {
   "cell_type": "code",
   "execution_count": null,
   "id": "1d559a1c",
   "metadata": {},
   "outputs": [],
   "source": []
  }
 ],
 "metadata": {
  "kernelspec": {
   "display_name": "PT",
   "language": "python",
   "name": "pt"
  },
  "language_info": {
   "codemirror_mode": {
    "name": "ipython",
    "version": 3
   },
   "file_extension": ".py",
   "mimetype": "text/x-python",
   "name": "python",
   "nbconvert_exporter": "python",
   "pygments_lexer": "ipython3",
   "version": "3.6.13"
  }
 },
 "nbformat": 4,
 "nbformat_minor": 5
}
