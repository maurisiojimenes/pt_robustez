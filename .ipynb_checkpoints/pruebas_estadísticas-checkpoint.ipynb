{
 "cells": [
  {
   "cell_type": "code",
   "execution_count": 1,
   "id": "400c0676",
   "metadata": {},
   "outputs": [],
   "source": [
    "import graficas as g\n",
    "import entropia as en\n",
    "import numpy as np\n",
    "import networkx as nx\n",
    "import matplotlib.pyplot as plt\n",
    "import importlib\n",
    "import time"
   ]
  },
  {
   "cell_type": "code",
   "execution_count": 2,
   "id": "25ab159e",
   "metadata": {},
   "outputs": [
    {
     "data": {
      "text/plain": [
       "<module 'graficas' from 'C:\\\\Users\\\\blond\\\\repositorios\\\\pt_robustez\\\\graficas.py'>"
      ]
     },
     "execution_count": 2,
     "metadata": {},
     "output_type": "execute_result"
    }
   ],
   "source": [
    "importlib.reload(en)\n",
    "importlib.reload(g)"
   ]
  },
  {
   "cell_type": "code",
   "execution_count": 3,
   "id": "528dc8b0",
   "metadata": {},
   "outputs": [],
   "source": [
    "G_BA = g.crear_grafica('barabasi',500,15,0)\n",
    "G_WS = g.crear_grafica('watts',500,15,0.5)"
   ]
  },
  {
   "cell_type": "code",
   "execution_count": null,
   "id": "f7400a2a",
   "metadata": {},
   "outputs": [],
   "source": [
    "indices_robustez_BA_1 = []\n",
    "indices_robustez_WS_1 = []\n",
    "indices_robustez_BA_2 = []\n",
    "indices_robustez_WS_2 = []\n",
    "\n",
    "inicio = time.time()\n",
    "for i in range(1,len(G_BA)):\n",
    "    print(f\"Iteración: {i}\")\n",
    "    G_1 = G_BA.copy()\n",
    "    G_2 = G_WS.copy()\n",
    "    G_3 = G_BA.copy()\n",
    "    G_4 = G_WS.copy()\n",
    "    indice_robustez_BA_1 = g.indice_robustez(G_1,g.LCC,1,'random',i)\n",
    "    indice_robustez_WS_1 = g.indice_robustez(G_2,g.LCC,1,'random',i)\n",
    "    indice_robustez_BA_2 = g.indice_robustez(G_3,g.LCC,2,'random',i)\n",
    "    indice_robustez_WS_2 = g.indice_robustez(G_4,g.LCC,2,'random',i)\n",
    "\n",
    "    print(indice_robustez_BA_1,indice_robustez_WS_1,indice_robustez_BA_2,indice_robustez_WS_2)\n",
    "    \n",
    "    indices_robustez_BA_1.append(indice_robustez_BA_1)\n",
    "    indices_robustez_WS_1.append(indice_robustez_WS_1)\n",
    "    indices_robustez_BA_2.append(indice_robustez_BA_2)\n",
    "    indices_robustez_WS_2.append(indice_robustez_WS_2)\n",
    "\n",
    "final = time.time()\n",
    "print(f\"El tiempo de ejecución es: {final - inicio}\")"
   ]
  }
 ],
 "metadata": {
  "kernelspec": {
   "display_name": "PT",
   "language": "python",
   "name": "pt"
  },
  "language_info": {
   "codemirror_mode": {
    "name": "ipython",
    "version": 3
   },
   "file_extension": ".py",
   "mimetype": "text/x-python",
   "name": "python",
   "nbconvert_exporter": "python",
   "pygments_lexer": "ipython3",
   "version": "3.6.13"
  }
 },
 "nbformat": 4,
 "nbformat_minor": 5
}
