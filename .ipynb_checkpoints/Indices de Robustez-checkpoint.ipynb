{
 "cells": [
  {
   "cell_type": "code",
   "execution_count": 28,
   "id": "a508dddd",
   "metadata": {},
   "outputs": [],
   "source": [
    "import graficas as g\n",
    "import entropia as en\n",
    "import numpy as np\n",
    "import matplotlib.pyplot as plt\n",
    "import networkx as nx"
   ]
  },
  {
   "cell_type": "code",
   "execution_count": 29,
   "id": "05150e44",
   "metadata": {},
   "outputs": [
    {
     "name": "stdout",
     "output_type": "stream",
     "text": [
      "1\n",
      "0\n",
      "1\n",
      "100\n"
     ]
    }
   ],
   "source": [
    "G = g.crear_grafica('barabasi',100,10,0)\n",
    "grado_promedio = []\n",
    "for i in range(len(G)):\n",
    "    G = g.ataques(G,'random')\n",
    "    #grado_promedio.append(g.grado_promedio(G))\n",
    "print(g.grado_promedio(G))\n",
    "print(len(G))\n",
    "print(len(grado_promedio))\n"
   ]
  },
  {
   "cell_type": "code",
   "execution_count": null,
   "id": "c82cf3df",
   "metadata": {},
   "outputs": [],
   "source": []
  }
 ],
 "metadata": {
  "kernelspec": {
   "display_name": "Python 3",
   "language": "python",
   "name": "python3"
  },
  "language_info": {
   "codemirror_mode": {
    "name": "ipython",
    "version": 3
   },
   "file_extension": ".py",
   "mimetype": "text/x-python",
   "name": "python",
   "nbconvert_exporter": "python",
   "pygments_lexer": "ipython3",
   "version": "3.6.13"
  }
 },
 "nbformat": 4,
 "nbformat_minor": 5
}
