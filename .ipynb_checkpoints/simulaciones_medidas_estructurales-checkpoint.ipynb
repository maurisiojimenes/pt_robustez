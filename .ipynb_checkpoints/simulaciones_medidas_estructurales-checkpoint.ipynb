{
 "cells": [
  {
   "cell_type": "code",
   "execution_count": 1,
   "id": "3b919590-4ce5-45af-8665-c24b199fd6dc",
   "metadata": {},
   "outputs": [],
   "source": [
    "import graficas as g\n",
    "import matplotlib.pyplot as plt\n",
    "import time\n",
    "import numpy as np\n",
    "import importlib"
   ]
  },
  {
   "cell_type": "code",
   "execution_count": 11,
   "id": "89edf463-b0ae-41e0-8454-8984a516ca2f",
   "metadata": {},
   "outputs": [
    {
     "data": {
      "text/plain": [
       "<module 'graficas' from 'C:\\\\proyectos\\\\repositorios\\\\pt_robustez\\\\graficas.py'>"
      ]
     },
     "execution_count": 11,
     "metadata": {},
     "output_type": "execute_result"
    }
   ],
   "source": [
    "importlib.reload(g)"
   ]
  },
  {
   "cell_type": "code",
   "execution_count": 3,
   "id": "02386ac8-cc2f-46f3-b641-e4e4b93ba142",
   "metadata": {},
   "outputs": [],
   "source": [
    "n = 1000\n",
    "m = 15"
   ]
  },
  {
   "cell_type": "code",
   "execution_count": 4,
   "id": "02a5bc10-9839-4718-86c0-ff255aa24a15",
   "metadata": {
    "scrolled": true
   },
   "outputs": [
    {
     "name": "stdout",
     "output_type": "stream",
     "text": [
      "El tiempo total de ejecución fue: 40.853029012680054\n"
     ]
    }
   ],
   "source": [
    "#Lo que queremos hacer es hacer simulaciones atacando la misma red\n",
    "num_simulaciones = 50\n",
    "\n",
    "matriz_BA_fallos = []\n",
    "matriz_WS_fallos = []\n",
    "\n",
    "inicio = time.time()\n",
    "\n",
    "for i in range(num_simulaciones):\n",
    "    #print(f\"Vamos a hacer la \",i+1,\"-ésima simulación\")\n",
    "    G_BA = g.crear_grafica('barabasi',n,m,0)\n",
    "    G_WS = g.crear_grafica('watts',n,2*m,0.5)\n",
    "\n",
    "    N = len(G_BA)\n",
    "\n",
    "    AD_BA_fallos = []\n",
    "    AD_WS_fallos = []\n",
    "\n",
    "    for j in range(N):\n",
    "        AD_BA_fallos.append(g.grado_promedio(G_BA))\n",
    "        AD_WS_fallos.append(g.grado_promedio(G_WS))\n",
    "\n",
    "        G_BA = g.ataques(G_BA,'random')\n",
    "        G_WS = g.ataques(G_WS,'random')\n",
    "\n",
    "    matriz_BA_fallos.append(AD_BA_fallos)\n",
    "    matriz_WS_fallos.append(AD_WS_fallos)\n",
    "\n",
    "final = time.time()\n",
    "\n",
    "print(f\"El tiempo total de ejecución fue: {final-inicio}\")\n"
   ]
  },
  {
   "cell_type": "code",
   "execution_count": 5,
   "id": "c4bc98b9-3622-4541-a159-6e50f18a9250",
   "metadata": {},
   "outputs": [
    {
     "name": "stdout",
     "output_type": "stream",
     "text": [
      "El tiempo total de ejecución fue: 72.18377876281738\n"
     ]
    }
   ],
   "source": [
    "#Ahora vamos a hacer \n",
    "num_simulaciones = 50\n",
    "\n",
    "matriz_BA_ataques = []\n",
    "matriz_WS_ataques = []\n",
    "\n",
    "inicio = time.time()\n",
    "\n",
    "for i in range(num_simulaciones):\n",
    "    #print(f\"Vamos a hacer la \",i+1,\"-ésima simulación\")\n",
    "    G_BA = g.crear_grafica('barabasi',n,m,0)\n",
    "    G_WS = g.crear_grafica('watts',n,2*m,0.5)\n",
    "\n",
    "    N = len(G_BA)\n",
    "\n",
    "    AD_BA_ataques = []\n",
    "    AD_WS_ataques = []\n",
    "\n",
    "    for j in range(N):\n",
    "        AD_BA_ataques.append(g.grado_promedio(G_BA))\n",
    "        AD_WS_ataques.append(g.grado_promedio(G_WS))\n",
    "\n",
    "        G_BA = g.ataques(G_BA,'degree')\n",
    "        G_WS = g.ataques(G_WS,'degree')\n",
    "\n",
    "    matriz_BA_ataques.append(AD_BA_ataques)\n",
    "    matriz_WS_ataques.append(AD_WS_ataques)\n",
    "\n",
    "final = time.time()\n",
    "\n",
    "print(f\"El tiempo total de ejecución fue: {final-inicio}\")"
   ]
  },
  {
   "cell_type": "code",
   "execution_count": 8,
   "id": "ea84a9c2-f3e3-4527-af66-6b5af39e172e",
   "metadata": {},
   "outputs": [],
   "source": [
    "#Con lo anterior tenemos 50 listas en dónde guardamos los resultados de las simulaciones y ahora vamos a hacer\n",
    "#una ponderación de los resultados en el i-ésimo ataque para así obtener un resultado más confiable\n",
    "\n",
    "resultados_AD_BA_fallos = [sum(col) / num_simulaciones for col in zip(*matriz_BA_fallos)]\n",
    "resultados_AD_WS_fallos = [sum(col)/num_simulaciones for col in zip(*matriz_WS_fallos)]\n",
    "\n",
    "resultados_AD_BA_ataques = [sum(col) / num_simulaciones for col in zip(*matriz_BA_ataques)]\n",
    "resultados_AD_WS_ataques = [sum(col) / num_simulaciones for col in zip(*matriz_WS_ataques)]\n"
   ]
  },
  {
   "cell_type": "code",
   "execution_count": 12,
   "id": "989cfdd6-bae5-4b2f-92ce-e96c02ee5ae3",
   "metadata": {},
   "outputs": [
    {
     "name": "stdout",
     "output_type": "stream",
     "text": [
      "El tiempo total de ejecución fue: 40.6327908039093\n"
     ]
    }
   ],
   "source": [
    "#Ahora vamos a construir simulaciones para la densidad\n",
    "\n",
    "num_simulaciones = 50\n",
    "\n",
    "matriz_BA_fallos = []\n",
    "matriz_WS_fallos = []\n",
    "\n",
    "inicio = time.time()\n",
    "\n",
    "for i in range(num_simulaciones):\n",
    "    #print(f\"Vamos a hacer la \",i+1,\"-ésima simulación\")\n",
    "    G_BA = g.crear_grafica('barabasi',n,m,0)\n",
    "    G_WS = g.crear_grafica('watts',n,m+m,0.5)\n",
    "\n",
    "    N = len(G_BA)\n",
    "\n",
    "    D_BA_fallos = []\n",
    "    D_WS_fallos = []\n",
    "\n",
    "    for j in range(N):\n",
    "        D_BA_fallos.append(g.densidad(G_BA,N))\n",
    "        D_WS_fallos.append(g.densidad(G_WS,N))\n",
    "\n",
    "        G_BA = g.ataques(G_BA,'random')\n",
    "        G_WS = g.ataques(G_WS,'random')\n",
    "\n",
    "    matriz_BA_fallos.append(D_BA_fallos)\n",
    "    matriz_WS_fallos.append(D_WS_fallos)\n",
    "\n",
    "final = time.time()\n",
    "\n",
    "print(f\"El tiempo total de ejecución fue: {final-inicio}\")\n"
   ]
  },
  {
   "cell_type": "code",
   "execution_count": 13,
   "id": "69ff1785-dea6-494e-a9ac-5d1cdf261916",
   "metadata": {},
   "outputs": [
    {
     "name": "stdout",
     "output_type": "stream",
     "text": [
      "El tiempo total de ejecución fue: 68.75670289993286\n"
     ]
    }
   ],
   "source": [
    "\n",
    "num_simulaciones = 50\n",
    "\n",
    "matriz_BA_ataques = []\n",
    "matriz_WS_ataques = []\n",
    "\n",
    "inicio = time.time()\n",
    "\n",
    "for i in range(num_simulaciones):\n",
    "    #print(f\"Vamos a hacer la \",i+1,\"-ésima simulación\")\n",
    "    G_BA = g.crear_grafica('barabasi',n,m,0)\n",
    "    G_WS = g.crear_grafica('watts',n,m+m,0.5)\n",
    "\n",
    "    N = len(G_BA)\n",
    "\n",
    "    D_BA_ataques = []\n",
    "    D_WS_ataques = []\n",
    "\n",
    "    for j in range(N):\n",
    "        D_BA_ataques.append(g.densidad(G_BA,N))\n",
    "        D_WS_ataques.append(g.densidad(G_WS,N))\n",
    "\n",
    "        G_BA = g.ataques(G_BA,'degree')\n",
    "        G_WS = g.ataques(G_WS,'degree')\n",
    "\n",
    "    matriz_BA_ataques.append(D_BA_ataques)\n",
    "    matriz_WS_ataques.append(D_WS_ataques)\n",
    "\n",
    "final = time.time()\n",
    "\n",
    "print(f\"El tiempo total de ejecución fue: {final-inicio}\")"
   ]
  },
  {
   "cell_type": "code",
   "execution_count": 14,
   "id": "9bab0d7e-bfce-43ce-a48b-18b6466d074c",
   "metadata": {},
   "outputs": [],
   "source": [
    "resultados_D_BA_fallos = [sum(col) / num_simulaciones for col in zip(*matriz_BA_fallos)]\n",
    "resultados_D_WS_fallos = [sum(col)/num_simulaciones for col in zip(*matriz_WS_fallos)]\n",
    "\n",
    "resultados_D_BA_ataques = [sum(col) / num_simulaciones for col in zip(*matriz_BA_ataques)]\n",
    "resultados_D_WS_ataques = [sum(col) / num_simulaciones for col in zip(*matriz_WS_ataques)]"
   ]
  },
  {
   "cell_type": "code",
   "execution_count": null,
   "id": "3ddeb231-3ed6-40af-a8a2-e6eb7d630558",
   "metadata": {},
   "outputs": [],
   "source": [
    "fig, axs = plt.subplots(2, 2, figsize=(12, 8))\n",
    "fig.suptitle(\"Comparación de Resultados\", fontsize=16)\n",
    "\n",
    "# Gráfica 1: AD - Fallos\n",
    "axs[0, 0].plot(resultados_AD_BA_fallos, label=\"BA\", color=\"steelblue\")\n",
    "axs[0, 0].plot(resultados_AD_WS_fallos, label=\"WS\", color=\"orange\")\n",
    "axs[0, 0].set_title(\"AD - Fallos\")\n",
    "axs[0, 0].legend()\n",
    "axs[0, 0].set_xlabel(\"Iteración\")\n",
    "axs[0, 0].set_ylabel(\"Resultado\")\n",
    "\n",
    "# Gráfica 2: AD - Ataques\n",
    "axs[0, 1].plot(resultados_AD_BA_ataques, label=\"BA\", color=\"steelblue\")\n",
    "axs[0, 1].plot(resultados_AD_WS_ataques, label=\"WS\", color=\"orange\")\n",
    "axs[0, 1].set_title(\"AD - Ataques\")\n",
    "axs[0, 1].legend()\n",
    "axs[0, 1].set_xlabel(\"Iteración\")\n",
    "axs[0, 1].set_ylabel(\"Resultado\")\n",
    "\n",
    "# Gráfica 3: D - Fallos\n",
    "axs[1, 0].plot(resultados_D_BA_fallos, label=\"BA\", color=\"steelblue\")\n",
    "axs[1, 0].plot(resultados_D_WS_fallos, label=\"WS\", color=\"orange\")\n",
    "axs[1, 0].set_title(\"D - Fallos\")\n",
    "axs[1, 0].legend()\n",
    "axs[1, 0].set_xlabel(\"Iteración\")\n",
    "axs[1, 0].set_ylabel(\"Resultado\")\n",
    "\n",
    "# Gráfica 4: D - Ataques\n",
    "axs[1, 1].plot(resultados_D_BA_ataques, label=\"BA\", color=\"steelblue\")\n",
    "axs[1, 1].plot(resultados_D_WS_ataques, label=\"WS\", color=\"orange\")\n",
    "axs[1, 1].set_title(\"D - Ataques\")\n",
    "axs[1, 1].legend()\n",
    "axs[1, 1].set_xlabel(\"Iteración\")\n",
    "axs[1, 1].set_ylabel(\"Resultado\")\n",
    "\n",
    "# Ajustes finales\n",
    "plt.tight_layout(rect=[0, 0, 1, 0.96])  # Deja espacio al título\n",
    "plt.show()"
   ]
  }
 ],
 "metadata": {
  "kernelspec": {
   "display_name": "Python 3 (ipykernel)",
   "language": "python",
   "name": "python3"
  },
  "language_info": {
   "codemirror_mode": {
    "name": "ipython",
    "version": 3
   },
   "file_extension": ".py",
   "mimetype": "text/x-python",
   "name": "python",
   "nbconvert_exporter": "python",
   "pygments_lexer": "ipython3",
   "version": "3.11.13"
  }
 },
 "nbformat": 4,
 "nbformat_minor": 5
}
