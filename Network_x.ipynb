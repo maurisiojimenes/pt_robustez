{
  "nbformat": 4,
  "nbformat_minor": 0,
  "metadata": {
    "colab": {
      "provenance": []
    },
    "kernelspec": {
      "name": "python3",
      "display_name": "Python 3"
    },
    "language_info": {
      "name": "python"
    }
  },
  "cells": [
    {
      "cell_type": "markdown",
      "source": [
        "Queremos hacer dos funciones, una función que nos ayude a crear una gráfica dados ciertos parámetros (los que necesite el modelo que vamos a utilizar). Principalmente vamos a utilizar dos métodos para generar estas redes, uno será el de watts strogatz que es generado de una forma más aleatoria, y el otro es el método de Albert Barabasi"
      ],
      "metadata": {
        "id": "OYX2Ebz2VSi0"
      }
    },
    {
      "cell_type": "code",
      "execution_count": 11,
      "metadata": {
        "id": "glT51cpvpDfM"
      },
      "outputs": [],
      "source": [
        "import networkx as nx\n",
        "import matplotlib.pyplot as plt\n",
        "import math\n",
        "import csv\n",
        "import pandas as pd"
      ]
    },
    {
      "cell_type": "markdown",
      "source": [
        "La siguiente función recibe 4 parámetros; una cadena de caracteres, la cual nos va a indicar si la grafica que vamos a construir va a ser con el método de Watts o el método de construcción de Albert Barabasi.\n",
        "\n",
        "Si es el método de Watts vamos a usar: **n** como número de nodos, **m** como el número de enlaces que tendrá cada nodo y **p** como la probabilidad de reconectar cada enlace.\n",
        "\n",
        "Para el método de Barabasi vamos simplemente a usar: **n** como el número de nodos y **m** cómo el número de enlaces que podría tener cada nuevo nodo."
      ],
      "metadata": {
        "id": "GXXjxLJyp0qP"
      }
    },
    {
      "cell_type": "code",
      "source": [
        "def crear_grafica(modelo,n,m,p):\n",
        "  if modelo == \"watts\":\n",
        "    G = nx.watts_strogatz_graph(n,m,p, seed = None)\n",
        "  if modelo == \"barabasi\":\n",
        "    G = nx.barabasi_albert_graph(n,m, seed = None)\n",
        "  return G"
      ],
      "metadata": {
        "id": "TIqiw6s7bzEC"
      },
      "execution_count": 12,
      "outputs": []
    },
    {
      "cell_type": "code",
      "source": [
        "def calcula_medidas_estructurales(G,diccionario_medidas):\n",
        "  if len(diccionario_medidas) == 3:#Estamos en el caso del modelo de Watts\n",
        "    #print(\"Estamos en el caso del modelo de Watts\")\n",
        "    m_estructurales = {}\n",
        "    grados_promedio = diccionario_medidas['grado_promedio']\n",
        "    densidades = diccionario_medidas['densidades']\n",
        "    m_estructurales['probabilidades'] = diccionario_medidas['probabilidades']\n",
        "  else:#Estamos en el caso del modelo de Barabasi\n",
        "    #print(\"Estamos en el caso del modelo de Barabasi\")\n",
        "    m_estructurales = {}\n",
        "    grados_promedio = diccionario_medidas['grado_promedio']\n",
        "    densidades = diccionario_medidas['densidades']\n",
        "  nuevo_grado_promedio = sum(dict(G.degree()).values())/G.number_of_nodes()\n",
        "  grados_promedio.append(nuevo_grado_promedio)\n",
        "  densidades.append(nx.density(G))\n",
        "  m_estructurales['grado_promedio'] = grados_promedio\n",
        "  m_estructurales['densidades'] = densidades\n",
        "  return m_estructurales"
      ],
      "metadata": {
        "id": "-mGkhCIpLpXa"
      },
      "execution_count": 36,
      "outputs": []
    },
    {
      "cell_type": "code",
      "source": [
        "def csv_metricas(diccionario_medidas):\n",
        "  if len(diccionario_medidas) == 3:#Estamos en el caso del modelo de Watts\n",
        "    df_promedios = pd.DataFrame(diccionario_medidas['grado_promedio'])\n",
        "    df_densidades = pd.DataFrame(diccionario_medidas['densidades'])\n",
        "    df_probabilidades = pd.DataFrame(diccionario_medidas['probabilidades'])\n",
        "    df_combinados = pd.concat([df_promedios,df_densidades,df_probabilidades], axis = 1)\n",
        "    print(df_combinados)\n",
        "    df_combinados.to_csv('datos_watts.csv')\n",
        "  else:#Estamos en el caso del modelo de Barabasi\n",
        "    df_promedios = pd.DataFrame(diccionario_medidas['grado_promedio'])\n",
        "    df_densidades = pd.DataFrame(diccionario_medidas['densidades'])\n",
        "    df_combinados = pd.concat([df_promedios,df_densidades], axis = 1)\n",
        "    print(df_combinados)\n",
        "    df_combinados.to_csv('datos_barabasi.csv')"
      ],
      "metadata": {
        "id": "pob2Lr95Vwun"
      },
      "execution_count": 42,
      "outputs": []
    },
    {
      "cell_type": "code",
      "source": [
        "modelo = \"barabasi\"\n",
        "#Primero vamos a generar gráficas con el modelo de Barabasi(En el caso de la red BA los parámetros serían n=1000, m =2; n=1000, m=4.)\n",
        "nodos = [1000]\n",
        "enlaces = [2,4]\n",
        "diccionario_medidas = {\n",
        "    'grado_promedio':[],\n",
        "    'densidades':[]\n",
        "}\n",
        "for i in nodos:\n",
        "  for j in enlaces:\n",
        "    G = crear_grafica(modelo,i,j,0)\n",
        "    diccionario_medidas = calcula_medidas_estructurales(G,diccionario_medidas)\n",
        "csv_metricas(diccionario_medidas)\n",
        "print(diccionario_medidas)"
      ],
      "metadata": {
        "id": "jcS87z_7chZj",
        "colab": {
          "base_uri": "https://localhost:8080/"
        },
        "outputId": "9931dd69-3af4-40d8-a6b2-241e2ab4423e"
      },
      "execution_count": 45,
      "outputs": [
        {
          "output_type": "stream",
          "name": "stdout",
          "text": [
            "       0         0\n",
            "0  3.992  0.003996\n",
            "1  7.968  0.007976\n",
            "{'grado_promedio': [3.992, 7.968], 'densidades': [0.003995995995995996, 0.007975975975975975]}\n"
          ]
        }
      ]
    },
    {
      "cell_type": "code",
      "source": [
        "#Aquí vamos a hacer lo mismo pero con el modelo aleatorio de Watts-S\n",
        "modelo = 'watts'\n",
        "nodos = [1000]\n",
        "enlaces = [2,4]\n",
        "\n",
        "diccionario_medidas = {\n",
        "    'grado_promedio':[],\n",
        "    'densidades':[],\n",
        "    'probabilidades':[0.1,0.2,0.3,0.4,0.5,0.6,0.7,0.8,0.9]\n",
        "}\n",
        "for i in nodos:\n",
        "  for j in enlaces:\n",
        "    for p in diccionario_medidas['probabilidades']:\n",
        "      G = crear_grafica(modelo,i,j,p)\n",
        "      diccionario_medidas = calcula_medidas_estructurales(G,diccionario_medidas)\n",
        "csv_metricas(diccionario_medidas)\n"
      ],
      "metadata": {
        "id": "MM8dGkxZF5ri",
        "colab": {
          "base_uri": "https://localhost:8080/"
        },
        "outputId": "f496a408-f698-4459-da79-b531820c029e"
      },
      "execution_count": 46,
      "outputs": [
        {
          "output_type": "stream",
          "name": "stdout",
          "text": [
            "      0         0    0\n",
            "0   2.0  0.002002  0.1\n",
            "1   2.0  0.002002  0.2\n",
            "2   2.0  0.002002  0.3\n",
            "3   2.0  0.002002  0.4\n",
            "4   2.0  0.002002  0.5\n",
            "5   2.0  0.002002  0.6\n",
            "6   2.0  0.002002  0.7\n",
            "7   2.0  0.002002  0.8\n",
            "8   2.0  0.002002  0.9\n",
            "9   4.0  0.004004  NaN\n",
            "10  4.0  0.004004  NaN\n",
            "11  4.0  0.004004  NaN\n",
            "12  4.0  0.004004  NaN\n",
            "13  4.0  0.004004  NaN\n",
            "14  4.0  0.004004  NaN\n",
            "15  4.0  0.004004  NaN\n",
            "16  4.0  0.004004  NaN\n",
            "17  4.0  0.004004  NaN\n"
          ]
        }
      ]
    },
    {
      "cell_type": "code",
      "source": [
        "def ataque(G,criterio):\n",
        "  #elegir un nodo aleatorio\n",
        "  #closeness\n",
        "  #betweeness\n",
        "  #clustering coeficent\n",
        "  #random\n",
        "  #degree\n",
        "  #grafica medida vs porcentaje de atacados\n",
        "  return G"
      ],
      "metadata": {
        "id": "F6iszWES0Sxh"
      },
      "execution_count": null,
      "outputs": []
    }
  ]
}